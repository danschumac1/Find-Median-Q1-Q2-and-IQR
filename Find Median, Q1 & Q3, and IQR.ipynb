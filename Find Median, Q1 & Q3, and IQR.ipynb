{
 "cells": [
  {
   "cell_type": "code",
   "execution_count": 14,
   "id": "69a21beb",
   "metadata": {},
   "outputs": [],
   "source": [
    "import math"
   ]
  },
  {
   "cell_type": "code",
   "execution_count": 18,
   "id": "a28100bc",
   "metadata": {},
   "outputs": [],
   "source": [
    "#this returns only median\n",
    "\n",
    "def find_median(mylist):\n",
    "    mylist.sort()\n",
    "    \n",
    "    #if the length of list is even\n",
    "    if len(mylist)%2 == 0:\n",
    "        median = (mylist[int(len(mylist)/2)] + \n",
    "                  mylist[int(len(mylist)/2)-1])/2\n",
    "        \n",
    "    #if the length of list is odd\n",
    "    else:\n",
    "        median = mylist[math.trunc(len(mylist)/2)]\n",
    "    return median"
   ]
  },
  {
   "cell_type": "code",
   "execution_count": 49,
   "id": "52d133e8",
   "metadata": {},
   "outputs": [
    {
     "name": "stdout",
     "output_type": "stream",
     "text": [
      "3.5\n",
      "4.5\n",
      "3\n",
      "4\n"
     ]
    }
   ],
   "source": [
    "#a few even lengthed lists\n",
    "print(find_median([1,2,3,4,5,6]))\n",
    "print(find_median([1,2,3,4,5,6,7,8]))\n",
    "\n",
    "#a few odd lengthed lists\n",
    "print(find_median([1,2,3,4,5]))\n",
    "print(find_median([1,2,3,4,5,6,7]))"
   ]
  },
  {
   "cell_type": "code",
   "execution_count": 23,
   "id": "da6b0102",
   "metadata": {},
   "outputs": [],
   "source": [
    "#this returns  Q1 of a list\n",
    "\n",
    "# Although this works, I'm sure it could be simplified/cleaned up.\n",
    "# I wonder where there is redundancies\n",
    "\n",
    "def find_Q1(mylist):\n",
    "    mylist.sort()\n",
    "    \n",
    "    #if the length of list is even\n",
    "    if len(mylist)%2 == 0:\n",
    "        \n",
    "        #Set min to mean as new list\n",
    "        Q1_mylist = mylist[0:int(len(mylist)/2)]\n",
    "        \n",
    "        #if that list is even\n",
    "        if len(Q1_mylist)%2 == 0:\n",
    "            \n",
    "            #set Q1 to the avg of the middle two numbers\n",
    "            Q1 = (Q1_mylist[int(len(Q1_mylist)/2)] + \n",
    "                  Q1_mylist[int(len(Q1_mylist)/2)-1])/2\n",
    "        \n",
    "        #else, that list is odd\n",
    "        else:\n",
    "            Q1 = Q1_mylist[math.trunc(len(Q1_mylist)/2)]\n",
    "    \n",
    "    \n",
    "    \n",
    "    #if the length of list is odd\n",
    "    else:\n",
    "        Q1_mylist = mylist[0:int(len(mylist)/2)]\n",
    "        \n",
    "        #if that list is even\n",
    "        if len(Q1_mylist)%2 == 0:\n",
    "            Q1 = (Q1_mylist[int(len(Q1_mylist)/2)] + \n",
    "                  Q1_mylist[int(len(Q1_mylist)/2)-1])/2\n",
    "            \n",
    "         #else, that list is odd\n",
    "        else:\n",
    "            Q1 = Q1_mylist[math.trunc(len(Q1_mylist)/2)]\n",
    "    return Q1\n"
   ]
  },
  {
   "cell_type": "code",
   "execution_count": 24,
   "id": "2d9d52c8",
   "metadata": {},
   "outputs": [
    {
     "name": "stdout",
     "output_type": "stream",
     "text": [
      "2\n",
      "2.5\n",
      "1.5\n",
      "2\n"
     ]
    }
   ],
   "source": [
    "#a few even lengthed lists\n",
    "print(find_Q1([1,2,3,4,5,6]))\n",
    "print(find_Q1([1,2,3,4,5,6,7,8]))\n",
    "\n",
    "#a few odd lengthed lists\n",
    "print(find_Q1([1,2,3,4,5]))\n",
    "print(find_Q1([1,2,3,4,5,6,7]))"
   ]
  },
  {
   "cell_type": "code",
   "execution_count": 39,
   "id": "1fa1b623",
   "metadata": {},
   "outputs": [],
   "source": [
    "#this returns  Q3 of a list\n",
    "\n",
    "# Although this works, I'm sure it could be simplified/cleaned up.\n",
    "# I wonder where there is redundancies\n",
    "\n",
    "def find_Q3(mylist):\n",
    "    mylist.sort()\n",
    "    \n",
    "    #if the length of list is even\n",
    "    if len(mylist)%2 == 0:\n",
    "        \n",
    "        #Set mean to max as new list\n",
    "        Q3_mylist = mylist[int(len(mylist)/2):]\n",
    "        \n",
    "        #if that list is even\n",
    "        if len(Q3_mylist)%2 == 0:\n",
    "            \n",
    "            #set Q3 to the avg of the middle two numbers\n",
    "            Q3 = (Q3_mylist[int(len(Q3_mylist)/2)] + \n",
    "                  Q3_mylist[int(len(Q3_mylist)/2)-1])/2\n",
    "        \n",
    "        #else, that list is odd\n",
    "        else:\n",
    "            Q3 = Q3_mylist[math.trunc(len(Q3_mylist)/2)]\n",
    "    \n",
    "    \n",
    "    \n",
    "    #if the length of list is odd\n",
    "    else:\n",
    "        Q3_mylist = mylist[int(len(mylist)/2):]\n",
    "        \n",
    "        #if that list is even\n",
    "        if len(Q3_mylist)%2 == 0:\n",
    "            Q3 = (Q3_mylist[int(len(Q3_mylist)/2)] + \n",
    "                  Q3_mylist[int(len(Q3_mylist)/2)-1])/2\n",
    "            \n",
    "         #else, that list is odd\n",
    "        else:\n",
    "            Q3 = Q3_mylist[math.trunc(len(Q3_mylist)/2)]\n",
    "    return Q3\n"
   ]
  },
  {
   "cell_type": "code",
   "execution_count": 40,
   "id": "3e8c8d76",
   "metadata": {},
   "outputs": [
    {
     "name": "stdout",
     "output_type": "stream",
     "text": [
      "5\n",
      "6.5\n",
      "4\n",
      "5.5\n"
     ]
    }
   ],
   "source": [
    "#a few even lengthed lists\n",
    "print(find_Q3([1,2,3,4,5,6]))\n",
    "print(find_Q3([1,2,3,4,5,6,7,8]))\n",
    "\n",
    "#a few odd lengthed lists\n",
    "print(find_Q3([1,2,3,4,5]))\n",
    "print(find_Q3([1,2,3,4,5,6,7]))"
   ]
  },
  {
   "cell_type": "code",
   "execution_count": 50,
   "id": "2b72026d",
   "metadata": {},
   "outputs": [],
   "source": [
    "#this returns the IQR of a list\n",
    "\n",
    "def find_IQR(mylist):\n",
    "    IQR = find_Q3(mylist) - find_Q1(mylist)\n",
    "    \n",
    "    return IQR"
   ]
  },
  {
   "cell_type": "code",
   "execution_count": 51,
   "id": "cc980194",
   "metadata": {
    "scrolled": true
   },
   "outputs": [
    {
     "name": "stdout",
     "output_type": "stream",
     "text": [
      "3\n",
      "4.0\n",
      "2.5\n",
      "3.5\n"
     ]
    }
   ],
   "source": [
    "#works for even lengthed lists\n",
    "print(find_IQR([1,2,3,4,5,6]))\n",
    "print(find_IQR([1,2,3,4,5,6,7,8]))\n",
    "\n",
    "#doesn't work for odd lengethed lists\n",
    "print(find_IQR([1,2,3,4,5]))\n",
    "print(find_IQR([1,2,3,4,5,6,7]))"
   ]
  },
  {
   "cell_type": "code",
   "execution_count": 48,
   "id": "14e0a4b7",
   "metadata": {},
   "outputs": [
    {
     "name": "stdout",
     "output_type": "stream",
     "text": [
      "median mylist1:\n",
      "4.5\n",
      "\n",
      "\n",
      "median mylist2\n",
      "5\n",
      "\n",
      "\n",
      "Quartiles mylist1\n",
      "[2.25, 4.5, 6.75]\n",
      "\n",
      "\n",
      "Quartiles mylist2\n",
      "[2.5, 5.0, 7.5]\n",
      "\n",
      "\n",
      "IQR mylist1\n",
      "4.5\n",
      "\n",
      "\n",
      "IQR mylist2\n",
      "5.0\n",
      "\n",
      "\n"
     ]
    }
   ],
   "source": [
    "# or, of course, you can always just make python do the heavy lifting for you.\n",
    "\n",
    "import statistics\n",
    "\n",
    "mylist1 = [1,2,3,4,5,6,7,8]\n",
    "mylist2 = [1,2,3,4,5,6,7,8,9]\n",
    "\n",
    "print('median mylist1:')\n",
    "print(statistics.median(mylist1))\n",
    "print('\\n')\n",
    "\n",
    "print('median mylist2')\n",
    "print(statistics.median(mylist2))\n",
    "print('\\n')\n",
    "\n",
    "print('Quartiles mylist1')\n",
    "print(statistics.quantiles(mylist1))\n",
    "print('\\n')\n",
    "\n",
    "print('Quartiles mylist2')\n",
    "print(statistics.quantiles(mylist2))\n",
    "print('\\n')\n",
    "\n",
    "print('IQR mylist1')\n",
    "print(statistics.quantiles(mylist1)[2]-statistics.quantiles(mylist1)[0])\n",
    "print('\\n')\n",
    "\n",
    "print('IQR mylist2')\n",
    "print(statistics.quantiles(mylist2)[2]-statistics.quantiles(mylist2)[0])\n",
    "print('\\n')\n"
   ]
  }
 ],
 "metadata": {
  "kernelspec": {
   "display_name": "Python 3 (ipykernel)",
   "language": "python",
   "name": "python3"
  },
  "language_info": {
   "codemirror_mode": {
    "name": "ipython",
    "version": 3
   },
   "file_extension": ".py",
   "mimetype": "text/x-python",
   "name": "python",
   "nbconvert_exporter": "python",
   "pygments_lexer": "ipython3",
   "version": "3.9.12"
  }
 },
 "nbformat": 4,
 "nbformat_minor": 5
}
